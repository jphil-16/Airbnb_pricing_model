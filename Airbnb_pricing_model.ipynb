{
  "nbformat": 4,
  "nbformat_minor": 0,
  "metadata": {
    "colab": {
      "name": "Airbnb_pricing_model.ipynb",
      "provenance": [],
      "authorship_tag": "ABX9TyPcJiHHb3ZlDfyn6MY/8qcP",
      "include_colab_link": true
    },
    "kernelspec": {
      "name": "python3",
      "display_name": "Python 3"
    }
  },
  "cells": [
    {
      "cell_type": "markdown",
      "metadata": {
        "id": "view-in-github",
        "colab_type": "text"
      },
      "source": [
        "<a href=\"https://colab.research.google.com/github/jphil-16/Airbnb_pricing_model/blob/main/Airbnb_pricing_model.ipynb\" target=\"_parent\"><img src=\"https://colab.research.google.com/assets/colab-badge.svg\" alt=\"Open In Colab\"/></a>"
      ]
    },
    {
      "cell_type": "markdown",
      "metadata": {
        "id": "q9T0K1chixt9"
      },
      "source": [
        "# Introduction\r\n",
        "This model uses Airbnb listing data from [Inside Airbnb](http://insideairbnb.com/) to predict the nightly booking rate for listings in the Seattle area. The following features are used in the model:\r\n",
        "*   Number of beds\r\n",
        "*   Number of bathrooms\r\n",
        "*   Total number of people that can stay\r\n",
        "*   Room type (entire home, private room, shared room, etc.)\r\n",
        "*   Host response time (within an hour, within a day, etc.)\r\n",
        "*   Neighborhood\r\n",
        "*   Whether the host is labeled a Superhost\r\n",
        "*   Whether the listing can be booked instantly\r\n",
        "*   Number of reviews\r\n",
        "*   Average number of reviews per month\r\n",
        "*   Review rating\r\n",
        "\r\n",
        "The first step in building the model is to import all of the required libraries and load the data (which is stored in a .csv file)"
      ]
    },
    {
      "cell_type": "code",
      "metadata": {
        "colab": {
          "base_uri": "https://localhost:8080/"
        },
        "id": "ruIOp355itHw",
        "outputId": "f0f5591d-1280-49b7-ef22-bed6bcb9c65a"
      },
      "source": [
        "# Imports\r\n",
        "import numpy as np\r\n",
        "import pandas as pd\r\n",
        "import matplotlib.pyplot as plt\r\n",
        "from scipy import stats\r\n",
        "import statsmodels.api as sm\r\n",
        "from sklearn.linear_model import LinearRegression, LassoCV, RidgeCV, ElasticNetCV\r\n",
        "from sklearn.model_selection import train_test_split, cross_val_score\r\n",
        "from sklearn import ensemble, neighbors\r\n",
        "\r\n",
        "import itertools\r\n",
        "import warnings\r\n",
        "warnings.filterwarnings('ignore')\r\n",
        "%matplotlib inline"
      ],
      "execution_count": null,
      "outputs": [
        {
          "output_type": "stream",
          "text": [
            "/usr/local/lib/python3.6/dist-packages/statsmodels/tools/_testing.py:19: FutureWarning: pandas.util.testing is deprecated. Use the functions in the public API at pandas.testing instead.\n",
            "  import pandas.util.testing as tm\n"
          ],
          "name": "stderr"
        }
      ]
    },
    {
      "cell_type": "code",
      "metadata": {
        "id": "iiYexWKWkRvE"
      },
      "source": [
        "# Load the data\r\n",
        "listings = pd.read_csv('https://raw.githubusercontent.com/jphil-16/Thinkful_Projects_JDP/main/listings.csv')"
      ],
      "execution_count": null,
      "outputs": []
    },
    {
      "cell_type": "code",
      "metadata": {
        "colab": {
          "base_uri": "https://localhost:8080/",
          "height": 299
        },
        "id": "c2S3h_BekY8n",
        "outputId": "ce6036ad-b308-4de0-ac3e-451faf8b42bd"
      },
      "source": [
        "# Drop the features that won't be used\r\n",
        "listings = listings.drop(columns=['id', 'listing_url', 'scrape_id', 'last_scraped', 'name', 'description',\r\n",
        "       'neighborhood_overview', 'picture_url', 'host_id', 'host_url',\r\n",
        "       'host_name', 'host_since', 'host_location', 'host_about', 'host_response_rate', 'host_acceptance_rate', 'host_thumbnail_url', 'host_picture_url',\r\n",
        "       'host_neighbourhood', 'host_listings_count',\r\n",
        "       'host_total_listings_count', 'host_verifications',\r\n",
        "       'host_has_profile_pic', 'host_identity_verified', 'neighbourhood',\r\n",
        "       'neighbourhood_cleansed', 'latitude',\r\n",
        "       'longitude', 'property_type', 'bathrooms',\r\n",
        "       'bedrooms', 'amenities',\r\n",
        "       'minimum_nights', 'maximum_nights', 'minimum_minimum_nights',\r\n",
        "       'maximum_minimum_nights', 'minimum_maximum_nights',\r\n",
        "       'maximum_maximum_nights', 'minimum_nights_avg_ntm',\r\n",
        "       'maximum_nights_avg_ntm', 'calendar_updated', 'has_availability',\r\n",
        "       'availability_30', 'availability_60', 'availability_90',\r\n",
        "       'availability_365', 'calendar_last_scraped',\r\n",
        "       'number_of_reviews_ltm', 'number_of_reviews_l30d', 'first_review', 'review_scores_accuracy',\r\n",
        "       'review_scores_cleanliness', 'review_scores_checkin',\r\n",
        "       'review_scores_communication', 'review_scores_location',\r\n",
        "       'review_scores_value', 'license',\r\n",
        "       'calculated_host_listings_count',\r\n",
        "       'calculated_host_listings_count_entire_homes',\r\n",
        "       'calculated_host_listings_count_private_rooms',\r\n",
        "       'calculated_host_listings_count_shared_rooms'])\r\n",
        "\r\n",
        "# Take a quick look at the data\r\n",
        "listings.head()"
      ],
      "execution_count": null,
      "outputs": [
        {
          "output_type": "execute_result",
          "data": {
            "text/html": [
              "<div>\n",
              "<style scoped>\n",
              "    .dataframe tbody tr th:only-of-type {\n",
              "        vertical-align: middle;\n",
              "    }\n",
              "\n",
              "    .dataframe tbody tr th {\n",
              "        vertical-align: top;\n",
              "    }\n",
              "\n",
              "    .dataframe thead th {\n",
              "        text-align: right;\n",
              "    }\n",
              "</style>\n",
              "<table border=\"1\" class=\"dataframe\">\n",
              "  <thead>\n",
              "    <tr style=\"text-align: right;\">\n",
              "      <th></th>\n",
              "      <th>host_response_time</th>\n",
              "      <th>host_is_superhost</th>\n",
              "      <th>neighbourhood_group_cleansed</th>\n",
              "      <th>room_type</th>\n",
              "      <th>accommodates</th>\n",
              "      <th>bathrooms_text</th>\n",
              "      <th>beds</th>\n",
              "      <th>price</th>\n",
              "      <th>number_of_reviews</th>\n",
              "      <th>last_review</th>\n",
              "      <th>review_scores_rating</th>\n",
              "      <th>instant_bookable</th>\n",
              "      <th>reviews_per_month</th>\n",
              "    </tr>\n",
              "  </thead>\n",
              "  <tbody>\n",
              "    <tr>\n",
              "      <th>0</th>\n",
              "      <td>within a day</td>\n",
              "      <td>t</td>\n",
              "      <td>Central Area</td>\n",
              "      <td>Entire home/apt</td>\n",
              "      <td>9</td>\n",
              "      <td>2.5 baths</td>\n",
              "      <td>4.0</td>\n",
              "      <td>$295.00</td>\n",
              "      <td>32</td>\n",
              "      <td>2020-02-01</td>\n",
              "      <td>100.0</td>\n",
              "      <td>f</td>\n",
              "      <td>0.22</td>\n",
              "    </tr>\n",
              "    <tr>\n",
              "      <th>1</th>\n",
              "      <td>within a few hours</td>\n",
              "      <td>t</td>\n",
              "      <td>Other neighborhoods</td>\n",
              "      <td>Private room</td>\n",
              "      <td>2</td>\n",
              "      <td>3 shared baths</td>\n",
              "      <td>2.0</td>\n",
              "      <td>$55.00</td>\n",
              "      <td>148</td>\n",
              "      <td>2019-12-27</td>\n",
              "      <td>93.0</td>\n",
              "      <td>f</td>\n",
              "      <td>1.19</td>\n",
              "    </tr>\n",
              "    <tr>\n",
              "      <th>2</th>\n",
              "      <td>within a day</td>\n",
              "      <td>t</td>\n",
              "      <td>West Seattle</td>\n",
              "      <td>Entire home/apt</td>\n",
              "      <td>4</td>\n",
              "      <td>1 bath</td>\n",
              "      <td>3.0</td>\n",
              "      <td>$155.00</td>\n",
              "      <td>40</td>\n",
              "      <td>2019-12-30</td>\n",
              "      <td>100.0</td>\n",
              "      <td>f</td>\n",
              "      <td>0.37</td>\n",
              "    </tr>\n",
              "    <tr>\n",
              "      <th>3</th>\n",
              "      <td>within a day</td>\n",
              "      <td>t</td>\n",
              "      <td>West Seattle</td>\n",
              "      <td>Entire home/apt</td>\n",
              "      <td>3</td>\n",
              "      <td>1 bath</td>\n",
              "      <td>2.0</td>\n",
              "      <td>$125.00</td>\n",
              "      <td>53</td>\n",
              "      <td>2020-08-31</td>\n",
              "      <td>100.0</td>\n",
              "      <td>f</td>\n",
              "      <td>0.50</td>\n",
              "    </tr>\n",
              "    <tr>\n",
              "      <th>4</th>\n",
              "      <td>within a few hours</td>\n",
              "      <td>f</td>\n",
              "      <td>Other neighborhoods</td>\n",
              "      <td>Entire home/apt</td>\n",
              "      <td>4</td>\n",
              "      <td>1 bath</td>\n",
              "      <td>4.0</td>\n",
              "      <td>$100.00</td>\n",
              "      <td>97</td>\n",
              "      <td>2020-09-28</td>\n",
              "      <td>91.0</td>\n",
              "      <td>f</td>\n",
              "      <td>0.85</td>\n",
              "    </tr>\n",
              "  </tbody>\n",
              "</table>\n",
              "</div>"
            ],
            "text/plain": [
              "   host_response_time host_is_superhost  ... instant_bookable reviews_per_month\n",
              "0        within a day                 t  ...                f              0.22\n",
              "1  within a few hours                 t  ...                f              1.19\n",
              "2        within a day                 t  ...                f              0.37\n",
              "3        within a day                 t  ...                f              0.50\n",
              "4  within a few hours                 f  ...                f              0.85\n",
              "\n",
              "[5 rows x 13 columns]"
            ]
          },
          "metadata": {
            "tags": []
          },
          "execution_count": 3
        }
      ]
    },
    {
      "cell_type": "code",
      "metadata": {
        "colab": {
          "base_uri": "https://localhost:8080/"
        },
        "id": "eNZdeDS5kbFL",
        "outputId": "7c6f593e-cbd2-428e-ce55-7e679fa7e7aa"
      },
      "source": [
        "# See what columns are left\r\n",
        "listings.columns"
      ],
      "execution_count": null,
      "outputs": [
        {
          "output_type": "execute_result",
          "data": {
            "text/plain": [
              "Index(['host_response_time', 'host_is_superhost',\n",
              "       'neighbourhood_group_cleansed', 'room_type', 'accommodates',\n",
              "       'bathrooms_text', 'beds', 'price', 'number_of_reviews', 'last_review',\n",
              "       'review_scores_rating', 'instant_bookable', 'reviews_per_month'],\n",
              "      dtype='object')"
            ]
          },
          "metadata": {
            "tags": []
          },
          "execution_count": 4
        }
      ]
    },
    {
      "cell_type": "markdown",
      "metadata": {
        "id": "tyj38GRzkh1H"
      },
      "source": [
        "# Data Cleaning\r\n",
        "This step has already been started above, by dropping all of the columns that won't be utilized in this model. However, there is still quite a lot to do to prep the data for modeling."
      ]
    },
    {
      "cell_type": "code",
      "metadata": {
        "id": "CS-LGR3skx41"
      },
      "source": [
        "# First things first - drop the rows that have empty values\r\n",
        "# We can afford this step because we will still have thousands of data entires\r\n",
        "listings = listings.dropna()\r\n",
        "listings.reset_index(drop = True, inplace = True)"
      ],
      "execution_count": null,
      "outputs": []
    },
    {
      "cell_type": "code",
      "metadata": {
        "id": "4KaItQSQlJcF"
      },
      "source": [
        "# Next we have to transform columns with text into data that is actually usable\r\n",
        "\r\n",
        "# The listing price needs to be converted from a string to a number\r\n",
        "listings['price'] = listings['price'].replace('[\\$,]', '', regex=True).astype(float)\r\n",
        "\r\n",
        "# The \"last review\" date needs the first 4 digits extracted to give us the year of the last review\r\n",
        "# We will use this to filter out abandoned listings later on\r\n",
        "year_last_review = pd.DataFrame([listings.loc[i,'last_review'][:4] for i in range(len(listings))])\r\n",
        "year_last_review.columns = ['year_last_review']\r\n",
        "listings = pd.concat([listings, year_last_review], axis = 1, sort = False)\r\n",
        "\r\n",
        "# The number of bathrooms is stored as text\r\n",
        "# This method of extracting the number treats full baths and half baths as the same\r\n",
        "num_baths = pd.DataFrame([listings.loc[i,'bathrooms_text'][:1] for i in range(len(listings))])\r\n",
        "num_baths.columns = ['num_baths']\r\n",
        "listings = pd.concat([listings, num_baths], axis = 1, sort = False)"
      ],
      "execution_count": null,
      "outputs": []
    },
    {
      "cell_type": "code",
      "metadata": {
        "id": "svv5IZu3l8Gt"
      },
      "source": [
        "# We still need to transform the bathroom count from a string to an integer\r\n",
        "for i in range(len(listings)):\r\n",
        "  if listings.loc[i,'num_baths'] == 'H':\r\n",
        "    listings.loc[i, 'num_baths'] = 0\r\n",
        "  if listings.loc[i, 'num_baths'] == 'P':\r\n",
        "    listings.loc[i, 'num_baths'] = 0\r\n",
        "  if listings.loc[i, 'num_baths'] == 'S':\r\n",
        "    listings.loc[i, 'num_baths'] = 0\r\n",
        "  if listings.loc[i,'num_baths'] == '1':\r\n",
        "    listings.loc[i, 'num_baths'] = 1\r\n",
        "  if listings.loc[i, 'num_baths'] == '2':\r\n",
        "    listings.loc[i, 'num_baths'] = 2\r\n",
        "  if listings.loc[i, 'num_baths'] == '0':\r\n",
        "    listings.loc[i, 'num_baths'] = 0\r\n",
        "  if listings.loc[i,'num_baths'] == '3':\r\n",
        "    listings.loc[i, 'num_baths'] = 3\r\n",
        "  if listings.loc[i, 'num_baths'] == '4':\r\n",
        "    listings.loc[i, 'num_baths'] = 4\r\n",
        "  if listings.loc[i, 'num_baths'] == '5':\r\n",
        "    listings.loc[i, 'num_baths'] = 5\r\n",
        "  if listings.loc[i, 'num_baths'] == '6':\r\n",
        "    listings.loc[i, 'num_baths'] = 6\r\n",
        "  if listings.loc[i, 'num_baths'] == '7':\r\n",
        "    listings.loc[i, 'num_baths'] = 7"
      ],
      "execution_count": null,
      "outputs": []
    },
    {
      "cell_type": "code",
      "metadata": {
        "id": "5_a-BNwYmHJC"
      },
      "source": [
        "# Next we take all of the features with categorical data and use one-hot encoding\r\n",
        "listings = pd.concat([listings,pd.get_dummies(listings.host_is_superhost, prefix=\"superhost\", drop_first=True)], axis=1)\r\n",
        "listings = pd.concat([listings,pd.get_dummies(listings.room_type, prefix=\"room_type\", drop_first=True)], axis=1)\r\n",
        "listings = pd.concat([listings,pd.get_dummies(listings.neighbourhood_group_cleansed, prefix=\"neighborhood\", drop_first=True)], axis=1)\r\n",
        "listings = pd.concat([listings,pd.get_dummies(listings.host_response_time, prefix=\"response_time\", drop_first=True)], axis=1)\r\n",
        "listings = pd.concat([listings,pd.get_dummies(listings.instant_bookable, prefix=\"instant_bookable\", drop_first=True)], axis=1)\r\n",
        "listings = pd.concat([listings,pd.get_dummies(listings.num_baths, prefix=\"num_baths\", drop_first=True)], axis=1)\r\n",
        "\r\n",
        "dummy_column_names = list(pd.get_dummies(listings.host_is_superhost, prefix=\"superhost\", drop_first=True).columns)\r\n",
        "dummy_column_names = dummy_column_names + list(pd.get_dummies(listings.room_type, prefix=\"room_type\", drop_first=True).columns)\r\n",
        "dummy_column_names = dummy_column_names + list(pd.get_dummies(listings.neighbourhood_group_cleansed, prefix=\"neighborhood\", drop_first=True).columns)\r\n",
        "dummy_column_names = dummy_column_names + list(pd.get_dummies(listings.host_response_time, prefix=\"response_time\", drop_first=True).columns)\r\n",
        "dummy_column_names = dummy_column_names + list(pd.get_dummies(listings.instant_bookable, prefix=\"instant_bookable\", drop_first=True).columns)\r\n",
        "dummy_column_names = dummy_column_names + list(pd.get_dummies(listings.num_baths, prefix=\"num_baths\", drop_first=True).columns)"
      ],
      "execution_count": null,
      "outputs": []
    },
    {
      "cell_type": "code",
      "metadata": {
        "id": "SEE8m7bsmUrY"
      },
      "source": [
        "# Now we need to filter out data that we don't want\r\n",
        "\r\n",
        "# Filter on price first\r\n",
        "# Drop rows with expensive listings (We will use $400 as a manual cut-off)\r\n",
        "index_names_highprice = listings[listings['price'] > 400 ].index \r\n",
        "listings.drop(index_names_highprice, inplace = True)\r\n",
        "\r\n",
        "# Filter on room type\r\n",
        "# Drop rows with hotel rooms (there are very few of these and they are priced very differently)\r\n",
        "index_names_hotel = listings[listings['room_type_Hotel room'] == 1 ].index \r\n",
        "listings.drop(index_names_hotel, inplace = True)\r\n",
        "\r\n",
        "# Filter on last review date\r\n",
        "# Drop rows with no recent reviews (which represent abandoned listings)\r\n",
        "index_names_old = listings[listings['year_last_review'] != '2020' ].index \r\n",
        "listings.drop(index_names_old, inplace = True)"
      ],
      "execution_count": null,
      "outputs": []
    },
    {
      "cell_type": "code",
      "metadata": {
        "colab": {
          "base_uri": "https://localhost:8080/"
        },
        "id": "ZHTguF5AlYBL",
        "outputId": "68a04c01-81a3-4ce8-ad72-47a456e5bbd8"
      },
      "source": [
        "len(listings)"
      ],
      "execution_count": null,
      "outputs": [
        {
          "output_type": "execute_result",
          "data": {
            "text/plain": [
              "2478"
            ]
          },
          "metadata": {
            "tags": []
          },
          "execution_count": 19
        }
      ]
    },
    {
      "cell_type": "code",
      "metadata": {
        "colab": {
          "base_uri": "https://localhost:8080/",
          "height": 295
        },
        "id": "8Ll-ACMJmwBi",
        "outputId": "f5de4fcb-598c-4c38-d09b-20cd83402003"
      },
      "source": [
        "# Take a quick look at how the target variable is distrubted\r\n",
        "plt.hist(listings['price'], alpha = .5, bins = 20)\r\n",
        "plt.title('Listing Price Distribution')\r\n",
        "plt.xlabel('Nightly Rate')\r\n",
        "plt.ylabel('Number of Listings')\r\n",
        "plt.show()"
      ],
      "execution_count": null,
      "outputs": [
        {
          "output_type": "display_data",
          "data": {
            "image/png": "[encoded data removed]",
            "text/plain": [
              "<Figure size 432x288 with 1 Axes>"
            ]
          },
          "metadata": {
            "tags": [],
            "needs_background": "light"
          }
        }
      ]
    },
    {
      "cell_type": "code",
      "metadata": {
        "colab": {
          "base_uri": "https://localhost:8080/",
          "height": 316
        },
        "id": "EHadsUmMmPav",
        "outputId": "ad4b8ddd-3b51-45a1-ce24-95b0c8b61c4a"
      },
      "source": [
        "# Let's take another quick look at what our data looks like after all that...\r\n",
        "listings.head()"
      ],
      "execution_count": null,
      "outputs": [
        {
          "output_type": "execute_result",
          "data": {
            "text/html": [
              "<div>\n",
              "<style scoped>\n",
              "    .dataframe tbody tr th:only-of-type {\n",
              "        vertical-align: middle;\n",
              "    }\n",
              "\n",
              "    .dataframe tbody tr th {\n",
              "        vertical-align: top;\n",
              "    }\n",
              "\n",
              "    .dataframe thead th {\n",
              "        text-align: right;\n",
              "    }\n",
              "</style>\n",
              "<table border=\"1\" class=\"dataframe\">\n",
              "  <thead>\n",
              "    <tr style=\"text-align: right;\">\n",
              "      <th></th>\n",
              "      <th>host_response_time</th>\n",
              "      <th>host_is_superhost</th>\n",
              "      <th>neighbourhood_group_cleansed</th>\n",
              "      <th>room_type</th>\n",
              "      <th>accommodates</th>\n",
              "      <th>bathrooms_text</th>\n",
              "      <th>beds</th>\n",
              "      <th>price</th>\n",
              "      <th>number_of_reviews</th>\n",
              "      <th>last_review</th>\n",
              "      <th>review_scores_rating</th>\n",
              "      <th>instant_bookable</th>\n",
              "      <th>reviews_per_month</th>\n",
              "      <th>year_last_review</th>\n",
              "      <th>num_baths</th>\n",
              "      <th>superhost_t</th>\n",
              "      <th>room_type_Hotel room</th>\n",
              "      <th>room_type_Private room</th>\n",
              "      <th>room_type_Shared room</th>\n",
              "      <th>neighborhood_Beacon Hill</th>\n",
              "      <th>neighborhood_Capitol Hill</th>\n",
              "      <th>neighborhood_Cascade</th>\n",
              "      <th>neighborhood_Central Area</th>\n",
              "      <th>neighborhood_Delridge</th>\n",
              "      <th>neighborhood_Downtown</th>\n",
              "      <th>neighborhood_Interbay</th>\n",
              "      <th>neighborhood_Lake City</th>\n",
              "      <th>neighborhood_Magnolia</th>\n",
              "      <th>neighborhood_Northgate</th>\n",
              "      <th>neighborhood_Other neighborhoods</th>\n",
              "      <th>neighborhood_Queen Anne</th>\n",
              "      <th>neighborhood_Rainier Valley</th>\n",
              "      <th>neighborhood_Seward Park</th>\n",
              "      <th>neighborhood_University District</th>\n",
              "      <th>neighborhood_West Seattle</th>\n",
              "      <th>response_time_within a day</th>\n",
              "      <th>response_time_within a few hours</th>\n",
              "      <th>response_time_within an hour</th>\n",
              "      <th>instant_bookable_t</th>\n",
              "      <th>num_baths_1</th>\n",
              "      <th>num_baths_2</th>\n",
              "      <th>num_baths_3</th>\n",
              "      <th>num_baths_4</th>\n",
              "      <th>num_baths_5</th>\n",
              "      <th>num_baths_6</th>\n",
              "    </tr>\n",
              "  </thead>\n",
              "  <tbody>\n",
              "    <tr>\n",
              "      <th>0</th>\n",
              "      <td>within a day</td>\n",
              "      <td>t</td>\n",
              "      <td>Central Area</td>\n",
              "      <td>Entire home/apt</td>\n",
              "      <td>9</td>\n",
              "      <td>2.5 baths</td>\n",
              "      <td>4.0</td>\n",
              "      <td>295.0</td>\n",
              "      <td>32</td>\n",
              "      <td>2020-02-01</td>\n",
              "      <td>100.0</td>\n",
              "      <td>f</td>\n",
              "      <td>0.22</td>\n",
              "      <td>2020</td>\n",
              "      <td>2</td>\n",
              "      <td>1</td>\n",
              "      <td>0</td>\n",
              "      <td>0</td>\n",
              "      <td>0</td>\n",
              "      <td>0</td>\n",
              "      <td>0</td>\n",
              "      <td>0</td>\n",
              "      <td>1</td>\n",
              "      <td>0</td>\n",
              "      <td>0</td>\n",
              "      <td>0</td>\n",
              "      <td>0</td>\n",
              "      <td>0</td>\n",
              "      <td>0</td>\n",
              "      <td>0</td>\n",
              "      <td>0</td>\n",
              "      <td>0</td>\n",
              "      <td>0</td>\n",
              "      <td>0</td>\n",
              "      <td>0</td>\n",
              "      <td>1</td>\n",
              "      <td>0</td>\n",
              "      <td>0</td>\n",
              "      <td>0</td>\n",
              "      <td>0</td>\n",
              "      <td>1</td>\n",
              "      <td>0</td>\n",
              "      <td>0</td>\n",
              "      <td>0</td>\n",
              "      <td>0</td>\n",
              "    </tr>\n",
              "    <tr>\n",
              "      <th>3</th>\n",
              "      <td>within a day</td>\n",
              "      <td>t</td>\n",
              "      <td>West Seattle</td>\n",
              "      <td>Entire home/apt</td>\n",
              "      <td>3</td>\n",
              "      <td>1 bath</td>\n",
              "      <td>2.0</td>\n",
              "      <td>125.0</td>\n",
              "      <td>53</td>\n",
              "      <td>2020-08-31</td>\n",
              "      <td>100.0</td>\n",
              "      <td>f</td>\n",
              "      <td>0.50</td>\n",
              "      <td>2020</td>\n",
              "      <td>1</td>\n",
              "      <td>1</td>\n",
              "      <td>0</td>\n",
              "      <td>0</td>\n",
              "      <td>0</td>\n",
              "      <td>0</td>\n",
              "      <td>0</td>\n",
              "      <td>0</td>\n",
              "      <td>0</td>\n",
              "      <td>0</td>\n",
              "      <td>0</td>\n",
              "      <td>0</td>\n",
              "      <td>0</td>\n",
              "      <td>0</td>\n",
              "      <td>0</td>\n",
              "      <td>0</td>\n",
              "      <td>0</td>\n",
              "      <td>0</td>\n",
              "      <td>0</td>\n",
              "      <td>0</td>\n",
              "      <td>1</td>\n",
              "      <td>1</td>\n",
              "      <td>0</td>\n",
              "      <td>0</td>\n",
              "      <td>0</td>\n",
              "      <td>1</td>\n",
              "      <td>0</td>\n",
              "      <td>0</td>\n",
              "      <td>0</td>\n",
              "      <td>0</td>\n",
              "      <td>0</td>\n",
              "    </tr>\n",
              "    <tr>\n",
              "      <th>4</th>\n",
              "      <td>within a few hours</td>\n",
              "      <td>f</td>\n",
              "      <td>Other neighborhoods</td>\n",
              "      <td>Entire home/apt</td>\n",
              "      <td>4</td>\n",
              "      <td>1 bath</td>\n",
              "      <td>4.0</td>\n",
              "      <td>100.0</td>\n",
              "      <td>97</td>\n",
              "      <td>2020-09-28</td>\n",
              "      <td>91.0</td>\n",
              "      <td>f</td>\n",
              "      <td>0.85</td>\n",
              "      <td>2020</td>\n",
              "      <td>1</td>\n",
              "      <td>0</td>\n",
              "      <td>0</td>\n",
              "      <td>0</td>\n",
              "      <td>0</td>\n",
              "      <td>0</td>\n",
              "      <td>0</td>\n",
              "      <td>0</td>\n",
              "      <td>0</td>\n",
              "      <td>0</td>\n",
              "      <td>0</td>\n",
              "      <td>0</td>\n",
              "      <td>0</td>\n",
              "      <td>0</td>\n",
              "      <td>0</td>\n",
              "      <td>1</td>\n",
              "      <td>0</td>\n",
              "      <td>0</td>\n",
              "      <td>0</td>\n",
              "      <td>0</td>\n",
              "      <td>0</td>\n",
              "      <td>0</td>\n",
              "      <td>1</td>\n",
              "      <td>0</td>\n",
              "      <td>0</td>\n",
              "      <td>1</td>\n",
              "      <td>0</td>\n",
              "      <td>0</td>\n",
              "      <td>0</td>\n",
              "      <td>0</td>\n",
              "      <td>0</td>\n",
              "    </tr>\n",
              "    <tr>\n",
              "      <th>7</th>\n",
              "      <td>within a few hours</td>\n",
              "      <td>f</td>\n",
              "      <td>Other neighborhoods</td>\n",
              "      <td>Entire home/apt</td>\n",
              "      <td>8</td>\n",
              "      <td>2 baths</td>\n",
              "      <td>3.0</td>\n",
              "      <td>280.0</td>\n",
              "      <td>96</td>\n",
              "      <td>2020-09-27</td>\n",
              "      <td>96.0</td>\n",
              "      <td>f</td>\n",
              "      <td>0.73</td>\n",
              "      <td>2020</td>\n",
              "      <td>2</td>\n",
              "      <td>0</td>\n",
              "      <td>0</td>\n",
              "      <td>0</td>\n",
              "      <td>0</td>\n",
              "      <td>0</td>\n",
              "      <td>0</td>\n",
              "      <td>0</td>\n",
              "      <td>0</td>\n",
              "      <td>0</td>\n",
              "      <td>0</td>\n",
              "      <td>0</td>\n",
              "      <td>0</td>\n",
              "      <td>0</td>\n",
              "      <td>0</td>\n",
              "      <td>1</td>\n",
              "      <td>0</td>\n",
              "      <td>0</td>\n",
              "      <td>0</td>\n",
              "      <td>0</td>\n",
              "      <td>0</td>\n",
              "      <td>0</td>\n",
              "      <td>1</td>\n",
              "      <td>0</td>\n",
              "      <td>0</td>\n",
              "      <td>0</td>\n",
              "      <td>1</td>\n",
              "      <td>0</td>\n",
              "      <td>0</td>\n",
              "      <td>0</td>\n",
              "      <td>0</td>\n",
              "    </tr>\n",
              "    <tr>\n",
              "      <th>9</th>\n",
              "      <td>within an hour</td>\n",
              "      <td>t</td>\n",
              "      <td>Downtown</td>\n",
              "      <td>Entire home/apt</td>\n",
              "      <td>6</td>\n",
              "      <td>1 bath</td>\n",
              "      <td>2.0</td>\n",
              "      <td>156.0</td>\n",
              "      <td>105</td>\n",
              "      <td>2020-09-13</td>\n",
              "      <td>94.0</td>\n",
              "      <td>t</td>\n",
              "      <td>0.86</td>\n",
              "      <td>2020</td>\n",
              "      <td>1</td>\n",
              "      <td>1</td>\n",
              "      <td>0</td>\n",
              "      <td>0</td>\n",
              "      <td>0</td>\n",
              "      <td>0</td>\n",
              "      <td>0</td>\n",
              "      <td>0</td>\n",
              "      <td>0</td>\n",
              "      <td>0</td>\n",
              "      <td>1</td>\n",
              "      <td>0</td>\n",
              "      <td>0</td>\n",
              "      <td>0</td>\n",
              "      <td>0</td>\n",
              "      <td>0</td>\n",
              "      <td>0</td>\n",
              "      <td>0</td>\n",
              "      <td>0</td>\n",
              "      <td>0</td>\n",
              "      <td>0</td>\n",
              "      <td>0</td>\n",
              "      <td>0</td>\n",
              "      <td>1</td>\n",
              "      <td>1</td>\n",
              "      <td>1</td>\n",
              "      <td>0</td>\n",
              "      <td>0</td>\n",
              "      <td>0</td>\n",
              "      <td>0</td>\n",
              "      <td>0</td>\n",
              "    </tr>\n",
              "  </tbody>\n",
              "</table>\n",
              "</div>"
            ],
            "text/plain": [
              "   host_response_time host_is_superhost  ... num_baths_5 num_baths_6\n",
              "0        within a day                 t  ...           0           0\n",
              "3        within a day                 t  ...           0           0\n",
              "4  within a few hours                 f  ...           0           0\n",
              "7  within a few hours                 f  ...           0           0\n",
              "9      within an hour                 t  ...           0           0\n",
              "\n",
              "[5 rows x 45 columns]"
            ]
          },
          "metadata": {
            "tags": []
          },
          "execution_count": 11
        }
      ]
    },
    {
      "cell_type": "markdown",
      "metadata": {
        "id": "qGpIG0sBm5Md"
      },
      "source": [
        "# Build the Model\r\n",
        "Now that we have all of our data organized into a usable structure, we need to decide which model type to use. But the first step is to split the data into our features and target variable, and then divide each piece into a training set and a test set."
      ]
    },
    {
      "cell_type": "code",
      "metadata": {
        "id": "ZGMm2oT-nMcD"
      },
      "source": [
        "# Split the data into X and y\r\n",
        "y = listings['price']\r\n",
        "X = listings[['number_of_reviews', 'review_scores_rating', 'reviews_per_month','beds', 'accommodates'] + dummy_column_names]\r\n",
        "X = sm.add_constant(X)\r\n",
        "\r\n",
        "# Split thae data into test and train\r\n",
        "X_train, X_test, y_train, y_test = train_test_split(X, y, test_size = 0.2, random_state = 31)\r\n",
        "\r\n",
        "# Get alpha values for the regularization\r\n",
        "alphas = [np.power(10.0,p) for p in np.arange(-10,40,1)]"
      ],
      "execution_count": null,
      "outputs": []
    },
    {
      "cell_type": "code",
      "metadata": {
        "colab": {
          "base_uri": "https://localhost:8080/",
          "height": 1000
        },
        "id": "7__7g9h0nXi6",
        "outputId": "e78b90ad-129d-4a26-c4fa-1f774d210df4"
      },
      "source": [
        "# MODEL #1 - LINEAR REGRESSION (OLS)\r\n",
        "\r\n",
        "# Build the model\r\n",
        "lrm = LinearRegression()\r\n",
        "lrm.fit(X_train, y_train)\r\n",
        "\r\n",
        "# Make predictions\r\n",
        "y_preds_train = lrm.predict(X_train)\r\n",
        "y_preds_test = lrm.predict(X_test)\r\n",
        "\r\n",
        "# Take a look at the results\r\n",
        "results = sm.OLS(y, X).fit()\r\n",
        "results.summary()"
      ],
      "execution_count": null,
      "outputs": [
        {
          "output_type": "execute_result",
          "data": {
            "text/html": [
              "<table class=\"simpletable\">\n",
              "<caption>OLS Regression Results</caption>\n",
              "<tr>\n",
              "  <th>Dep. Variable:</th>          <td>price</td>      <th>  R-squared:         </th> <td>   0.590</td> \n",
              "</tr>\n",
              "<tr>\n",
              "  <th>Model:</th>                   <td>OLS</td>       <th>  Adj. R-squared:    </th> <td>   0.585</td> \n",
              "</tr>\n",
              "<tr>\n",
              "  <th>Method:</th>             <td>Least Squares</td>  <th>  F-statistic:       </th> <td>   106.8</td> \n",
              "</tr>\n",
              "<tr>\n",
              "  <th>Date:</th>             <td>Mon, 21 Dec 2020</td> <th>  Prob (F-statistic):</th>  <td>  0.00</td>  \n",
              "</tr>\n",
              "<tr>\n",
              "  <th>Time:</th>                 <td>00:16:07</td>     <th>  Log-Likelihood:    </th> <td> -12628.</td> \n",
              "</tr>\n",
              "<tr>\n",
              "  <th>No. Observations:</th>      <td>  2478</td>      <th>  AIC:               </th> <td>2.532e+04</td>\n",
              "</tr>\n",
              "<tr>\n",
              "  <th>Df Residuals:</th>          <td>  2444</td>      <th>  BIC:               </th> <td>2.552e+04</td>\n",
              "</tr>\n",
              "<tr>\n",
              "  <th>Df Model:</th>              <td>    33</td>      <th>                     </th>     <td> </td>    \n",
              "</tr>\n",
              "<tr>\n",
              "  <th>Covariance Type:</th>      <td>nonrobust</td>    <th>                     </th>     <td> </td>    \n",
              "</tr>\n",
              "</table>\n",
              "<table class=\"simpletable\">\n",
              "<tr>\n",
              "                  <td></td>                    <th>coef</th>     <th>std err</th>      <th>t</th>      <th>P>|t|</th>  <th>[0.025</th>    <th>0.975]</th>  \n",
              "</tr>\n",
              "<tr>\n",
              "  <th>const</th>                            <td>   -5.8769</td> <td>   20.392</td> <td>   -0.288</td> <td> 0.773</td> <td>  -45.864</td> <td>   34.110</td>\n",
              "</tr>\n",
              "<tr>\n",
              "  <th>number_of_reviews</th>                <td>    0.0331</td> <td>    0.012</td> <td>    2.705</td> <td> 0.007</td> <td>    0.009</td> <td>    0.057</td>\n",
              "</tr>\n",
              "<tr>\n",
              "  <th>review_scores_rating</th>             <td>    0.8457</td> <td>    0.131</td> <td>    6.435</td> <td> 0.000</td> <td>    0.588</td> <td>    1.103</td>\n",
              "</tr>\n",
              "<tr>\n",
              "  <th>reviews_per_month</th>                <td>   -6.1530</td> <td>    0.650</td> <td>   -9.459</td> <td> 0.000</td> <td>   -7.429</td> <td>   -4.877</td>\n",
              "</tr>\n",
              "<tr>\n",
              "  <th>beds</th>                             <td>    3.9225</td> <td>    1.127</td> <td>    3.481</td> <td> 0.001</td> <td>    1.713</td> <td>    6.132</td>\n",
              "</tr>\n",
              "<tr>\n",
              "  <th>accommodates</th>                     <td>   10.8691</td> <td>    0.694</td> <td>   15.665</td> <td> 0.000</td> <td>    9.509</td> <td>   12.230</td>\n",
              "</tr>\n",
              "<tr>\n",
              "  <th>superhost_t</th>                      <td>    6.6368</td> <td>    1.909</td> <td>    3.477</td> <td> 0.001</td> <td>    2.893</td> <td>   10.380</td>\n",
              "</tr>\n",
              "<tr>\n",
              "  <th>room_type_Hotel room</th>             <td> 5.533e-11</td> <td> 2.57e-11</td> <td>    2.156</td> <td> 0.031</td> <td>    5e-12</td> <td> 1.06e-10</td>\n",
              "</tr>\n",
              "<tr>\n",
              "  <th>room_type_Private room</th>           <td>  -30.6323</td> <td>    2.452</td> <td>  -12.494</td> <td> 0.000</td> <td>  -35.440</td> <td>  -25.825</td>\n",
              "</tr>\n",
              "<tr>\n",
              "  <th>room_type_Shared room</th>            <td>  -53.2712</td> <td>   41.197</td> <td>   -1.293</td> <td> 0.196</td> <td> -134.056</td> <td>   27.514</td>\n",
              "</tr>\n",
              "<tr>\n",
              "  <th>neighborhood_Beacon Hill</th>         <td>  -17.3544</td> <td>    5.151</td> <td>   -3.369</td> <td> 0.001</td> <td>  -27.456</td> <td>   -7.253</td>\n",
              "</tr>\n",
              "<tr>\n",
              "  <th>neighborhood_Capitol Hill</th>        <td>    9.6951</td> <td>    4.359</td> <td>    2.224</td> <td> 0.026</td> <td>    1.147</td> <td>   18.243</td>\n",
              "</tr>\n",
              "<tr>\n",
              "  <th>neighborhood_Cascade</th>             <td>   12.3264</td> <td>    6.004</td> <td>    2.053</td> <td> 0.040</td> <td>    0.553</td> <td>   24.100</td>\n",
              "</tr>\n",
              "<tr>\n",
              "  <th>neighborhood_Central Area</th>        <td>    1.8783</td> <td>    4.423</td> <td>    0.425</td> <td> 0.671</td> <td>   -6.795</td> <td>   10.552</td>\n",
              "</tr>\n",
              "<tr>\n",
              "  <th>neighborhood_Delridge</th>            <td>  -14.8154</td> <td>    6.001</td> <td>   -2.469</td> <td> 0.014</td> <td>  -26.583</td> <td>   -3.048</td>\n",
              "</tr>\n",
              "<tr>\n",
              "  <th>neighborhood_Downtown</th>            <td>   16.2037</td> <td>    4.009</td> <td>    4.042</td> <td> 0.000</td> <td>    8.343</td> <td>   24.065</td>\n",
              "</tr>\n",
              "<tr>\n",
              "  <th>neighborhood_Interbay</th>            <td>   -6.3544</td> <td>    9.318</td> <td>   -0.682</td> <td> 0.495</td> <td>  -24.627</td> <td>   11.918</td>\n",
              "</tr>\n",
              "<tr>\n",
              "  <th>neighborhood_Lake City</th>           <td>  -10.5712</td> <td>    7.045</td> <td>   -1.501</td> <td> 0.134</td> <td>  -24.386</td> <td>    3.244</td>\n",
              "</tr>\n",
              "<tr>\n",
              "  <th>neighborhood_Magnolia</th>            <td>   15.9260</td> <td>    6.641</td> <td>    2.398</td> <td> 0.017</td> <td>    2.903</td> <td>   28.949</td>\n",
              "</tr>\n",
              "<tr>\n",
              "  <th>neighborhood_Northgate</th>           <td>  -20.5665</td> <td>    6.117</td> <td>   -3.362</td> <td> 0.001</td> <td>  -32.561</td> <td>   -8.572</td>\n",
              "</tr>\n",
              "<tr>\n",
              "  <th>neighborhood_Other neighborhoods</th> <td>    1.0654</td> <td>    3.844</td> <td>    0.277</td> <td> 0.782</td> <td>   -6.473</td> <td>    8.604</td>\n",
              "</tr>\n",
              "<tr>\n",
              "  <th>neighborhood_Queen Anne</th>          <td>   22.1415</td> <td>    4.536</td> <td>    4.881</td> <td> 0.000</td> <td>   13.246</td> <td>   31.037</td>\n",
              "</tr>\n",
              "<tr>\n",
              "  <th>neighborhood_Rainier Valley</th>      <td>  -14.8747</td> <td>    4.842</td> <td>   -3.072</td> <td> 0.002</td> <td>  -24.370</td> <td>   -5.379</td>\n",
              "</tr>\n",
              "<tr>\n",
              "  <th>neighborhood_Seward Park</th>         <td>   -6.5739</td> <td>    7.833</td> <td>   -0.839</td> <td> 0.401</td> <td>  -21.935</td> <td>    8.787</td>\n",
              "</tr>\n",
              "<tr>\n",
              "  <th>neighborhood_University District</th> <td>    8.0979</td> <td>    5.974</td> <td>    1.356</td> <td> 0.175</td> <td>   -3.616</td> <td>   19.812</td>\n",
              "</tr>\n",
              "<tr>\n",
              "  <th>neighborhood_West Seattle</th>        <td>    4.9974</td> <td>    4.497</td> <td>    1.111</td> <td> 0.267</td> <td>   -3.820</td> <td>   13.815</td>\n",
              "</tr>\n",
              "<tr>\n",
              "  <th>response_time_within a day</th>       <td>    7.8213</td> <td>   10.561</td> <td>    0.741</td> <td> 0.459</td> <td>  -12.889</td> <td>   28.532</td>\n",
              "</tr>\n",
              "<tr>\n",
              "  <th>response_time_within a few hours</th> <td>   -3.1628</td> <td>   10.295</td> <td>   -0.307</td> <td> 0.759</td> <td>  -23.350</td> <td>   17.024</td>\n",
              "</tr>\n",
              "<tr>\n",
              "  <th>response_time_within an hour</th>     <td>    1.4631</td> <td>   10.082</td> <td>    0.145</td> <td> 0.885</td> <td>  -18.306</td> <td>   21.232</td>\n",
              "</tr>\n",
              "<tr>\n",
              "  <th>instant_bookable_t</th>               <td>   -0.8827</td> <td>    1.754</td> <td>   -0.503</td> <td> 0.615</td> <td>   -4.322</td> <td>    2.556</td>\n",
              "</tr>\n",
              "<tr>\n",
              "  <th>num_baths_1</th>                      <td>   -6.7243</td> <td>   11.231</td> <td>   -0.599</td> <td> 0.549</td> <td>  -28.748</td> <td>   15.300</td>\n",
              "</tr>\n",
              "<tr>\n",
              "  <th>num_baths_2</th>                      <td>   37.7123</td> <td>   11.536</td> <td>    3.269</td> <td> 0.001</td> <td>   15.091</td> <td>   60.333</td>\n",
              "</tr>\n",
              "<tr>\n",
              "  <th>num_baths_3</th>                      <td>   53.3375</td> <td>   12.635</td> <td>    4.222</td> <td> 0.000</td> <td>   28.562</td> <td>   78.113</td>\n",
              "</tr>\n",
              "<tr>\n",
              "  <th>num_baths_4</th>                      <td>   23.1554</td> <td>   25.922</td> <td>    0.893</td> <td> 0.372</td> <td>  -27.677</td> <td>   73.988</td>\n",
              "</tr>\n",
              "<tr>\n",
              "  <th>num_baths_5</th>                      <td>   67.8901</td> <td>   41.597</td> <td>    1.632</td> <td> 0.103</td> <td>  -13.678</td> <td>  149.458</td>\n",
              "</tr>\n",
              "<tr>\n",
              "  <th>num_baths_6</th>                      <td>         0</td> <td>        0</td> <td>      nan</td> <td>   nan</td> <td>        0</td> <td>        0</td>\n",
              "</tr>\n",
              "</table>\n",
              "<table class=\"simpletable\">\n",
              "<tr>\n",
              "  <th>Omnibus:</th>       <td>632.840</td> <th>  Durbin-Watson:     </th> <td>   1.929</td>\n",
              "</tr>\n",
              "<tr>\n",
              "  <th>Prob(Omnibus):</th> <td> 0.000</td>  <th>  Jarque-Bera (JB):  </th> <td>2313.858</td>\n",
              "</tr>\n",
              "<tr>\n",
              "  <th>Skew:</th>          <td> 1.227</td>  <th>  Prob(JB):          </th> <td>    0.00</td>\n",
              "</tr>\n",
              "<tr>\n",
              "  <th>Kurtosis:</th>      <td> 7.048</td>  <th>  Cond. No.          </th> <td>1.17e+16</td>\n",
              "</tr>\n",
              "</table><br/><br/>Warnings:<br/>[1] Standard Errors assume that the covariance matrix of the errors is correctly specified.<br/>[2] The smallest eigenvalue is 4.2e-25. This might indicate that there are<br/>strong multicollinearity problems or that the design matrix is singular."
            ],
            "text/plain": [
              "<class 'statsmodels.iolib.summary.Summary'>\n",
              "\"\"\"\n",
              "                            OLS Regression Results                            \n",
              "==============================================================================\n",
              "Dep. Variable:                  price   R-squared:                       0.590\n",
              "Model:                            OLS   Adj. R-squared:                  0.585\n",
              "Method:                 Least Squares   F-statistic:                     106.8\n",
              "Date:                Mon, 21 Dec 2020   Prob (F-statistic):               0.00\n",
              "Time:                        00:16:07   Log-Likelihood:                -12628.\n",
              "No. Observations:                2478   AIC:                         2.532e+04\n",
              "Df Residuals:                    2444   BIC:                         2.552e+04\n",
              "Df Model:                          33                                         \n",
              "Covariance Type:            nonrobust                                         \n",
              "====================================================================================================\n",
              "                                       coef    std err          t      P>|t|      [0.025      0.975]\n",
              "----------------------------------------------------------------------------------------------------\n",
              "const                               -5.8769     20.392     -0.288      0.773     -45.864      34.110\n",
              "number_of_reviews                    0.0331      0.012      2.705      0.007       0.009       0.057\n",
              "review_scores_rating                 0.8457      0.131      6.435      0.000       0.588       1.103\n",
              "reviews_per_month                   -6.1530      0.650     -9.459      0.000      -7.429      -4.877\n",
              "beds                                 3.9225      1.127      3.481      0.001       1.713       6.132\n",
              "accommodates                        10.8691      0.694     15.665      0.000       9.509      12.230\n",
              "superhost_t                          6.6368      1.909      3.477      0.001       2.893      10.380\n",
              "room_type_Hotel room              5.533e-11   2.57e-11      2.156      0.031       5e-12    1.06e-10\n",
              "room_type_Private room             -30.6323      2.452    -12.494      0.000     -35.440     -25.825\n",
              "room_type_Shared room              -53.2712     41.197     -1.293      0.196    -134.056      27.514\n",
              "neighborhood_Beacon Hill           -17.3544      5.151     -3.369      0.001     -27.456      -7.253\n",
              "neighborhood_Capitol Hill            9.6951      4.359      2.224      0.026       1.147      18.243\n",
              "neighborhood_Cascade                12.3264      6.004      2.053      0.040       0.553      24.100\n",
              "neighborhood_Central Area            1.8783      4.423      0.425      0.671      -6.795      10.552\n",
              "neighborhood_Delridge              -14.8154      6.001     -2.469      0.014     -26.583      -3.048\n",
              "neighborhood_Downtown               16.2037      4.009      4.042      0.000       8.343      24.065\n",
              "neighborhood_Interbay               -6.3544      9.318     -0.682      0.495     -24.627      11.918\n",
              "neighborhood_Lake City             -10.5712      7.045     -1.501      0.134     -24.386       3.244\n",
              "neighborhood_Magnolia               15.9260      6.641      2.398      0.017       2.903      28.949\n",
              "neighborhood_Northgate             -20.5665      6.117     -3.362      0.001     -32.561      -8.572\n",
              "neighborhood_Other neighborhoods     1.0654      3.844      0.277      0.782      -6.473       8.604\n",
              "neighborhood_Queen Anne             22.1415      4.536      4.881      0.000      13.246      31.037\n",
              "neighborhood_Rainier Valley        -14.8747      4.842     -3.072      0.002     -24.370      -5.379\n",
              "neighborhood_Seward Park            -6.5739      7.833     -0.839      0.401     -21.935       8.787\n",
              "neighborhood_University District     8.0979      5.974      1.356      0.175      -3.616      19.812\n",
              "neighborhood_West Seattle            4.9974      4.497      1.111      0.267      -3.820      13.815\n",
              "response_time_within a day           7.8213     10.561      0.741      0.459     -12.889      28.532\n",
              "response_time_within a few hours    -3.1628     10.295     -0.307      0.759     -23.350      17.024\n",
              "response_time_within an hour         1.4631     10.082      0.145      0.885     -18.306      21.232\n",
              "instant_bookable_t                  -0.8827      1.754     -0.503      0.615      -4.322       2.556\n",
              "num_baths_1                         -6.7243     11.231     -0.599      0.549     -28.748      15.300\n",
              "num_baths_2                         37.7123     11.536      3.269      0.001      15.091      60.333\n",
              "num_baths_3                         53.3375     12.635      4.222      0.000      28.562      78.113\n",
              "num_baths_4                         23.1554     25.922      0.893      0.372     -27.677      73.988\n",
              "num_baths_5                         67.8901     41.597      1.632      0.103     -13.678     149.458\n",
              "num_baths_6                               0          0        nan        nan           0           0\n",
              "==============================================================================\n",
              "Omnibus:                      632.840   Durbin-Watson:                   1.929\n",
              "Prob(Omnibus):                  0.000   Jarque-Bera (JB):             2313.858\n",
              "Skew:                           1.227   Prob(JB):                         0.00\n",
              "Kurtosis:                       7.048   Cond. No.                     1.17e+16\n",
              "==============================================================================\n",
              "\n",
              "Warnings:\n",
              "[1] Standard Errors assume that the covariance matrix of the errors is correctly specified.\n",
              "[2] The smallest eigenvalue is 4.2e-25. This might indicate that there are\n",
              "strong multicollinearity problems or that the design matrix is singular.\n",
              "\"\"\""
            ]
          },
          "metadata": {
            "tags": []
          },
          "execution_count": 13
        }
      ]
    },
    {
      "cell_type": "code",
      "metadata": {
        "colab": {
          "base_uri": "https://localhost:8080/"
        },
        "id": "SDXFMc37noc_",
        "outputId": "ba3ef02e-081c-49c6-f776-33c87a760d9a"
      },
      "source": [
        "# Cross Validation\r\n",
        "ols_scores = cross_val_score(lrm, X_train, y_train, cv = 5)\r\n",
        "\r\n",
        "print('Accuracy scores for the 5 folds: ', ols_scores)\r\n",
        "print('Mean cross validation score: {:.3f}'.format(np.mean(ols_scores)))"
      ],
      "execution_count": null,
      "outputs": [
        {
          "output_type": "stream",
          "text": [
            "Accuracy scores for the 5 folds:  [0.46585472 0.60972723 0.51582174 0.59379702 0.54736492]\n",
            "Mean cross validation score: 0.547\n"
          ],
          "name": "stdout"
        }
      ]
    },
    {
      "cell_type": "code",
      "metadata": {
        "id": "6NNDtZGRnpEH"
      },
      "source": [
        "# MODEL #2 - K-NEAREST NEIGHBORS\r\n",
        "\r\n",
        "# Build the model\r\n",
        "knn = neighbors.KNeighborsRegressor(n_neighbors=7)\r\n",
        "knn.fit(X, y)\r\n",
        "\r\n",
        "# Take a look at the results\r\n",
        "knn_7_score = knn.score(X_test, y_test)"
      ],
      "execution_count": null,
      "outputs": []
    },
    {
      "cell_type": "code",
      "metadata": {
        "colab": {
          "base_uri": "https://localhost:8080/"
        },
        "id": "o0pBhXeBn5Zt",
        "outputId": "d989b7a8-9103-4767-cf8a-1fb931f7d663"
      },
      "source": [
        "# Cross validation\r\n",
        "knn_score = cross_val_score(knn, X, y, cv=7)\r\n",
        "\r\n",
        "print('Accuracy scores for the 7 folds: ', knn_score)\r\n",
        "print('Mean cross validation score: {:.3f}'.format(np.mean(knn_score)))"
      ],
      "execution_count": null,
      "outputs": [
        {
          "output_type": "stream",
          "text": [
            "Accuracy scores for the 7 folds:  [0.23152435 0.32394255 0.29211397 0.43307547 0.33986997 0.45925494\n",
            " 0.40837988]\n",
            "Mean cross validation score: 0.355\n"
          ],
          "name": "stdout"
        }
      ]
    },
    {
      "cell_type": "code",
      "metadata": {
        "colab": {
          "base_uri": "https://localhost:8080/"
        },
        "id": "4GBHtW-pn8Cc",
        "outputId": "29d0e649-6cc9-476a-944a-3bda12f5b407"
      },
      "source": [
        "# MODEL #3 - GRADIENT BOOSTING\r\n",
        "\r\n",
        "# Build the model\r\n",
        "params = {'n_estimators': 200,\r\n",
        "          'max_depth': 2,\r\n",
        "          'loss': 'ls',\r\n",
        "          'learning_rate': 0.13,\r\n",
        "          'subsample': 0.95,\r\n",
        "          'min_samples_split': 3,\r\n",
        "          'min_samples_leaf': 2}\r\n",
        "\r\n",
        "clf = ensemble.GradientBoostingRegressor(**params)\r\n",
        "clf.fit(X_train, y_train)\r\n",
        "\r\n",
        "# Make predictions\r\n",
        "predict_train = clf.predict(X_train)\r\n",
        "predict_test = clf.predict(X_test)\r\n",
        "\r\n",
        "# Take a look at the accuracy\r\n",
        "clf.score(X_test, y_test)"
      ],
      "execution_count": null,
      "outputs": [
        {
          "output_type": "execute_result",
          "data": {
            "text/plain": [
              "0.6941183192088318"
            ]
          },
          "metadata": {
            "tags": []
          },
          "execution_count": 17
        }
      ]
    },
    {
      "cell_type": "code",
      "metadata": {
        "colab": {
          "base_uri": "https://localhost:8080/"
        },
        "id": "CXV8JzyloIkA",
        "outputId": "1b412adf-1ebe-4623-c78b-79b3f584fc79"
      },
      "source": [
        "# MODEL #4 - RANDOM FOREST\r\n",
        "\r\n",
        "# Build the model\r\n",
        "rfc = ensemble.RandomForestRegressor()\r\n",
        "scores_total = cross_val_score(rfc, X, y, cv=10)\r\n",
        "\r\n",
        "# Take a look the scores\r\n",
        "np.mean(scores_total)"
      ],
      "execution_count": null,
      "outputs": [
        {
          "output_type": "execute_result",
          "data": {
            "text/plain": [
              "0.5671028949585999"
            ]
          },
          "metadata": {
            "tags": []
          },
          "execution_count": 18
        }
      ]
    },
    {
      "cell_type": "markdown",
      "metadata": {
        "id": "jkuOpqbPoVxA"
      },
      "source": [
        "# Using the model\r\n",
        "Now we have some results! After tuning each model, it looks like the gradient boosting model performed the best. There is definitely some room for improvement (see the associated presentation for more details about how we can improve the model) but for now let's use this model to take a look at some real data.\r\n",
        "\r\n",
        "Say we have a 1-bedroom apartment in the Queen Anne neighbordhood of Seattle and we want to list it on Airbnb. What should we set the nightly price to? We can look at two seperate cases for comparison: a new listing with only a few mediocre, and an established Superhost listing with a large number of very good reviews. We will assume that the apartment has 1 bathroom and can host 3 people (2 in the bedroom and 1 extra person in the living room)."
      ]
    },
    {
      "cell_type": "code",
      "metadata": {
        "colab": {
          "base_uri": "https://localhost:8080/",
          "height": 143
        },
        "id": "Kus_jOzMp9ap",
        "outputId": "43fec5ca-a41c-44f0-cc2f-3338aaee5e29"
      },
      "source": [
        "# Define the test data\r\n",
        "test_airbnb_data = {'const': [1, 1], 'number_of_reviews': [3, 186],'review_scores_rating': [90.0, 100.0],\r\n",
        "                    'reviews_per_month': [1.5, 1.5],'beds': [1, 1],'accommodates': [3, 3],'superhost_t': [0, 1],\r\n",
        "                    'room_type_Hotel room': [0, 0],'room_type_Private room': [0, 0],'room_type_Shared room': [0, 0],\r\n",
        "                    'neighborhood_Beacon Hill': [0, 0],'neighborhood_Capitol Hill': [0, 0],'neighborhood_Cascade': [0, 0],\r\n",
        "                    'neighborhood_Central Area': [0, 0],'neighborhood_Delridge': [0, 0],'neighborhood_Downtown': [0, 0],\r\n",
        "                    'neighborhood_Interbay': [0, 0],'neighborhood_Lake City': [0, 0],'neighborhood_Magnolia': [0, 0],\r\n",
        "                    'neighborhood_Northgate': [0, 0],'neighborhood_Other neighborhoods': [0, 0],'neighborhood_Queen Anne': [1, 1],\r\n",
        "                    'neighborhood_Rainier Valley': [0, 0],'neighborhood_Seward Park': [0, 0],'neighborhood_University District': [0, 0],\r\n",
        "                    'neighborhood_West Seattle': [0, 0],'response_time_within a day': [0, 0],'response_time_within a few hours': [0, 0],\r\n",
        "                    'response_time_within an hour': [1, 1],'instant_bookable_t': [1, 1],'num_baths_1': [1, 1],'num_baths_2': [0, 0],\r\n",
        "                    'num_baths_3': [0, 0],'num_baths_4': [0, 0],'num_baths_5': [0, 0],'num_baths_6': [0, 0]\r\n",
        "                    }\r\n",
        "\r\n",
        "test_columns = ['const', 'number_of_reviews', 'review_scores_rating',\r\n",
        "       'reviews_per_month', 'beds', 'accommodates', 'superhost_t',\r\n",
        "       'room_type_Hotel room', 'room_type_Private room',\r\n",
        "       'room_type_Shared room', 'neighborhood_Beacon Hill',\r\n",
        "       'neighborhood_Capitol Hill', 'neighborhood_Cascade',\r\n",
        "       'neighborhood_Central Area', 'neighborhood_Delridge',\r\n",
        "       'neighborhood_Downtown', 'neighborhood_Interbay',\r\n",
        "       'neighborhood_Lake City', 'neighborhood_Magnolia',\r\n",
        "       'neighborhood_Northgate', 'neighborhood_Other neighborhoods',\r\n",
        "       'neighborhood_Queen Anne', 'neighborhood_Rainier Valley',\r\n",
        "       'neighborhood_Seward Park', 'neighborhood_University District',\r\n",
        "       'neighborhood_West Seattle', 'response_time_within a day',\r\n",
        "       'response_time_within a few hours', 'response_time_within an hour',\r\n",
        "       'instant_bookable_t', 'num_baths_1', 'num_baths_2', 'num_baths_3',\r\n",
        "       'num_baths_4', 'num_baths_5', 'num_baths_6']\r\n",
        "\r\n",
        "# Turn it into a dataframe for use in the model\r\n",
        "test_df = pd.DataFrame(test_airbnb_data, columns = test_columns)\r\n",
        "\r\n",
        "# Take a quick look\r\n",
        "test_df"
      ],
      "execution_count": null,
      "outputs": [
        {
          "output_type": "execute_result",
          "data": {
            "text/html": [
              "<div>\n",
              "<style scoped>\n",
              "    .dataframe tbody tr th:only-of-type {\n",
              "        vertical-align: middle;\n",
              "    }\n",
              "\n",
              "    .dataframe tbody tr th {\n",
              "        vertical-align: top;\n",
              "    }\n",
              "\n",
              "    .dataframe thead th {\n",
              "        text-align: right;\n",
              "    }\n",
              "</style>\n",
              "<table border=\"1\" class=\"dataframe\">\n",
              "  <thead>\n",
              "    <tr style=\"text-align: right;\">\n",
              "      <th></th>\n",
              "      <th>const</th>\n",
              "      <th>number_of_reviews</th>\n",
              "      <th>review_scores_rating</th>\n",
              "      <th>reviews_per_month</th>\n",
              "      <th>beds</th>\n",
              "      <th>accommodates</th>\n",
              "      <th>superhost_t</th>\n",
              "      <th>room_type_Hotel room</th>\n",
              "      <th>room_type_Private room</th>\n",
              "      <th>room_type_Shared room</th>\n",
              "      <th>neighborhood_Beacon Hill</th>\n",
              "      <th>neighborhood_Capitol Hill</th>\n",
              "      <th>neighborhood_Cascade</th>\n",
              "      <th>neighborhood_Central Area</th>\n",
              "      <th>neighborhood_Delridge</th>\n",
              "      <th>neighborhood_Downtown</th>\n",
              "      <th>neighborhood_Interbay</th>\n",
              "      <th>neighborhood_Lake City</th>\n",
              "      <th>neighborhood_Magnolia</th>\n",
              "      <th>neighborhood_Northgate</th>\n",
              "      <th>neighborhood_Other neighborhoods</th>\n",
              "      <th>neighborhood_Queen Anne</th>\n",
              "      <th>neighborhood_Rainier Valley</th>\n",
              "      <th>neighborhood_Seward Park</th>\n",
              "      <th>neighborhood_University District</th>\n",
              "      <th>neighborhood_West Seattle</th>\n",
              "      <th>response_time_within a day</th>\n",
              "      <th>response_time_within a few hours</th>\n",
              "      <th>response_time_within an hour</th>\n",
              "      <th>instant_bookable_t</th>\n",
              "      <th>num_baths_1</th>\n",
              "      <th>num_baths_2</th>\n",
              "      <th>num_baths_3</th>\n",
              "      <th>num_baths_4</th>\n",
              "      <th>num_baths_5</th>\n",
              "      <th>num_baths_6</th>\n",
              "    </tr>\n",
              "  </thead>\n",
              "  <tbody>\n",
              "    <tr>\n",
              "      <th>0</th>\n",
              "      <td>1</td>\n",
              "      <td>3</td>\n",
              "      <td>90.0</td>\n",
              "      <td>1.5</td>\n",
              "      <td>1</td>\n",
              "      <td>3</td>\n",
              "      <td>0</td>\n",
              "      <td>0</td>\n",
              "      <td>0</td>\n",
              "      <td>0</td>\n",
              "      <td>0</td>\n",
              "      <td>0</td>\n",
              "      <td>0</td>\n",
              "      <td>0</td>\n",
              "      <td>0</td>\n",
              "      <td>0</td>\n",
              "      <td>0</td>\n",
              "      <td>0</td>\n",
              "      <td>0</td>\n",
              "      <td>0</td>\n",
              "      <td>0</td>\n",
              "      <td>1</td>\n",
              "      <td>0</td>\n",
              "      <td>0</td>\n",
              "      <td>0</td>\n",
              "      <td>0</td>\n",
              "      <td>0</td>\n",
              "      <td>0</td>\n",
              "      <td>1</td>\n",
              "      <td>1</td>\n",
              "      <td>1</td>\n",
              "      <td>0</td>\n",
              "      <td>0</td>\n",
              "      <td>0</td>\n",
              "      <td>0</td>\n",
              "      <td>0</td>\n",
              "    </tr>\n",
              "    <tr>\n",
              "      <th>1</th>\n",
              "      <td>1</td>\n",
              "      <td>186</td>\n",
              "      <td>100.0</td>\n",
              "      <td>1.5</td>\n",
              "      <td>1</td>\n",
              "      <td>3</td>\n",
              "      <td>1</td>\n",
              "      <td>0</td>\n",
              "      <td>0</td>\n",
              "      <td>0</td>\n",
              "      <td>0</td>\n",
              "      <td>0</td>\n",
              "      <td>0</td>\n",
              "      <td>0</td>\n",
              "      <td>0</td>\n",
              "      <td>0</td>\n",
              "      <td>0</td>\n",
              "      <td>0</td>\n",
              "      <td>0</td>\n",
              "      <td>0</td>\n",
              "      <td>0</td>\n",
              "      <td>1</td>\n",
              "      <td>0</td>\n",
              "      <td>0</td>\n",
              "      <td>0</td>\n",
              "      <td>0</td>\n",
              "      <td>0</td>\n",
              "      <td>0</td>\n",
              "      <td>1</td>\n",
              "      <td>1</td>\n",
              "      <td>1</td>\n",
              "      <td>0</td>\n",
              "      <td>0</td>\n",
              "      <td>0</td>\n",
              "      <td>0</td>\n",
              "      <td>0</td>\n",
              "    </tr>\n",
              "  </tbody>\n",
              "</table>\n",
              "</div>"
            ],
            "text/plain": [
              "   const  number_of_reviews  ...  num_baths_5  num_baths_6\n",
              "0      1                  3  ...            0            0\n",
              "1      1                186  ...            0            0\n",
              "\n",
              "[2 rows x 36 columns]"
            ]
          },
          "metadata": {
            "tags": []
          },
          "execution_count": 29
        }
      ]
    },
    {
      "cell_type": "code",
      "metadata": {
        "colab": {
          "base_uri": "https://localhost:8080/"
        },
        "id": "gvMuLW_FqGFF",
        "outputId": "4852d450-7d1d-4d51-d920-c2f11a2b7770"
      },
      "source": [
        "# Now - make the predictions!\r\n",
        "predict_real = clf.predict(test_df)\r\n",
        "predict_real"
      ],
      "execution_count": null,
      "outputs": [
        {
          "output_type": "execute_result",
          "data": {
            "text/plain": [
              "array([105.7182792 , 135.07462338])"
            ]
          },
          "metadata": {
            "tags": []
          },
          "execution_count": 30
        }
      ]
    },
    {
      "cell_type": "markdown",
      "metadata": {
        "id": "wGSqvl4Aql3P"
      },
      "source": [
        "# Results\r\n",
        "There you have it - as a new listing, we should price the apartment at 105 dollars per night, but as we build up reviews over time we can increase the price by 30 dollars per night."
      ]
    }
  ]
}